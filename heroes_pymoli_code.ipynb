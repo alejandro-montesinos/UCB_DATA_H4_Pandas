{
 "cells": [
  {
   "cell_type": "markdown",
   "metadata": {},
   "source": [
    "# UC Berkeley Extension Data Analytics Program\n",
    "\n",
    "## Homework 4: Pandas\n",
    "\n",
    "Task: Heroes of Pymoli\n",
    "\n",
    "Submitted by: Alejandro Montesinos\n",
    "\n",
    "Date: March 14, 2019"
   ]
  },
  {
   "cell_type": "markdown",
   "metadata": {},
   "source": [
    "## Abstract\n",
    "\n",
    "In this exercise I analyze purchasing data of the most recent fantasy game Heroes of Pymoli. This game is free-to-play, but players are encouraged to purchase optional items that enhance their playing experience. The data used in this analysis contains information from 780 purchases made by 576 different players on 183 different items.\n",
    "\n",
    "A summary of findings is presented below:\n",
    "\n",
    "- The typical player is a male (84.06%) in his early twentieths. Average age is 22.75 years and the age group 20-24 is by far the largest group representing 44.8% of all players.\n",
    "\n",
    "- Players on average purchase 1.34 items and spend $4.13 per player\n",
    "\n",
    "- The total revenue from all purchases is 23,79.77 and the average purchase price is $3.05\n",
    "\n",
    "- Males spends the most on aggregate (1,967.64) but females spend more per purchase on average (4.47 vs 4.07)\n",
    "\n",
    "- The group 20-24 years old spend the most on aggregate (1,114.06) but the group 35-39 spend more per purchase on average ($4.76)\n",
    "\n",
    "- The most popular item is Oathbreaker, Last Hope of the Breaking Storm with 12 purchases in total and is also the most profitable with $50.76 in total purchases value."
   ]
  },
  {
   "cell_type": "code",
   "execution_count": 1,
   "metadata": {},
   "outputs": [],
   "source": [
    "# Import Dependencies\n",
    "import pandas            as pd\n",
    "import numpy             as np\n",
    "import matplotlib.pyplot as plt"
   ]
  },
  {
   "cell_type": "markdown",
   "metadata": {},
   "source": [
    "# Preliminary Work"
   ]
  },
  {
   "cell_type": "markdown",
   "metadata": {},
   "source": [
    "In this section the CSV file containing purchase data is imported and a Player level file as generated from the purchase level data"
   ]
  },
  {
   "cell_type": "code",
   "execution_count": 2,
   "metadata": {},
   "outputs": [
    {
     "data": {
      "text/html": [
       "<div>\n",
       "<style scoped>\n",
       "    .dataframe tbody tr th:only-of-type {\n",
       "        vertical-align: middle;\n",
       "    }\n",
       "\n",
       "    .dataframe tbody tr th {\n",
       "        vertical-align: top;\n",
       "    }\n",
       "\n",
       "    .dataframe thead th {\n",
       "        text-align: right;\n",
       "    }\n",
       "</style>\n",
       "<table border=\"1\" class=\"dataframe\">\n",
       "  <thead>\n",
       "    <tr style=\"text-align: right;\">\n",
       "      <th></th>\n",
       "      <th>Purchase ID</th>\n",
       "      <th>SN</th>\n",
       "      <th>Age</th>\n",
       "      <th>Gender</th>\n",
       "      <th>Item ID</th>\n",
       "      <th>Item Name</th>\n",
       "      <th>Price</th>\n",
       "    </tr>\n",
       "  </thead>\n",
       "  <tbody>\n",
       "    <tr>\n",
       "      <th>0</th>\n",
       "      <td>0</td>\n",
       "      <td>Lisim78</td>\n",
       "      <td>20</td>\n",
       "      <td>Male</td>\n",
       "      <td>108</td>\n",
       "      <td>Extraction, Quickblade Of Trembling Hands</td>\n",
       "      <td>3.53</td>\n",
       "    </tr>\n",
       "    <tr>\n",
       "      <th>1</th>\n",
       "      <td>1</td>\n",
       "      <td>Lisovynya38</td>\n",
       "      <td>40</td>\n",
       "      <td>Male</td>\n",
       "      <td>143</td>\n",
       "      <td>Frenzied Scimitar</td>\n",
       "      <td>1.56</td>\n",
       "    </tr>\n",
       "    <tr>\n",
       "      <th>2</th>\n",
       "      <td>2</td>\n",
       "      <td>Ithergue48</td>\n",
       "      <td>24</td>\n",
       "      <td>Male</td>\n",
       "      <td>92</td>\n",
       "      <td>Final Critic</td>\n",
       "      <td>4.88</td>\n",
       "    </tr>\n",
       "    <tr>\n",
       "      <th>3</th>\n",
       "      <td>3</td>\n",
       "      <td>Chamassasya86</td>\n",
       "      <td>24</td>\n",
       "      <td>Male</td>\n",
       "      <td>100</td>\n",
       "      <td>Blindscythe</td>\n",
       "      <td>3.27</td>\n",
       "    </tr>\n",
       "    <tr>\n",
       "      <th>4</th>\n",
       "      <td>4</td>\n",
       "      <td>Iskosia90</td>\n",
       "      <td>23</td>\n",
       "      <td>Male</td>\n",
       "      <td>131</td>\n",
       "      <td>Fury</td>\n",
       "      <td>1.44</td>\n",
       "    </tr>\n",
       "  </tbody>\n",
       "</table>\n",
       "</div>"
      ],
      "text/plain": [
       "   Purchase ID             SN  Age Gender  Item ID  \\\n",
       "0            0        Lisim78   20   Male      108   \n",
       "1            1    Lisovynya38   40   Male      143   \n",
       "2            2     Ithergue48   24   Male       92   \n",
       "3            3  Chamassasya86   24   Male      100   \n",
       "4            4      Iskosia90   23   Male      131   \n",
       "\n",
       "                                   Item Name  Price  \n",
       "0  Extraction, Quickblade Of Trembling Hands   3.53  \n",
       "1                          Frenzied Scimitar   1.56  \n",
       "2                               Final Critic   4.88  \n",
       "3                                Blindscythe   3.27  \n",
       "4                                       Fury   1.44  "
      ]
     },
     "execution_count": 2,
     "metadata": {},
     "output_type": "execute_result"
    }
   ],
   "source": [
    "# Import CSV file as a DataFrame\n",
    "pymoli_df = pd.read_csv(\"./Resources/HeroesOfPymoli_Resources_purchase_data.csv\")\n",
    "pymoli_df.head()"
   ]
  },
  {
   "cell_type": "code",
   "execution_count": 3,
   "metadata": {},
   "outputs": [],
   "source": [
    "#Create a Data Frame with Player level information \n",
    "\n",
    "#Get the count of purchases per player\n",
    "pl_count     = pymoli_df.groupby(\"SN\", as_index=False)[\"Purchase ID\"].count()\n",
    "pl_count = pl_count.rename(columns={\"Purchase ID\":\"Number Purchases\"})\n",
    "\n",
    "#Get the amount spent on purchases per player \n",
    "pl_exp       = pymoli_df.groupby(\"SN\", as_index=False)[\"Price\"].sum()\n",
    "pl_exp = pl_exp.rename(columns={\"Price\":\"Expenditure\"})\n",
    "\n",
    "#Now merge the data together \n",
    "pl_count_exp = pd.merge(pl_count, pl_exp, on=\"SN\", how=\"inner\")"
   ]
  },
  {
   "cell_type": "code",
   "execution_count": 4,
   "metadata": {},
   "outputs": [],
   "source": [
    "#Now get all player level info together\n",
    "\n",
    "#Keep only player-level data from Purchase data and dedupe\n",
    "pldf = pymoli_df[[\"SN\",\"Age\",\"Gender\"]]\n",
    "pldf = pldf.drop_duplicates([\"SN\"])                       #Dedupe atplayer level\n",
    "pldf = pldf.sort_values([\"SN\"]).reset_index(drop=True)    #Now thre's only one observation per bene\n",
    "\n",
    "#Add number of purchases and amount spent to Player level data\n",
    "player_df = pd.merge(pldf, pl_count_exp, on=\"SN\", how=\"inner\")"
   ]
  },
  {
   "cell_type": "markdown",
   "metadata": {},
   "source": [
    "# 1. Player level analysis\n",
    "\n"
   ]
  },
  {
   "cell_type": "markdown",
   "metadata": {},
   "source": [
    "This section presents summary statistics of purchases by players"
   ]
  },
  {
   "cell_type": "code",
   "execution_count": 5,
   "metadata": {},
   "outputs": [
    {
     "name": "stdout",
     "output_type": "stream",
     "text": [
      "Summary Stats of Players\n",
      "----------------------------------------\n",
      "Total Number of Players:       576\n",
      "Average age:                   22.74\n",
      "Average purchases per player:  1.35\n",
      "Average expenditure:          $4.13\n",
      "----------------------------------------\n"
     ]
    }
   ],
   "source": [
    "#Get summary Stats at player level\n",
    "total_num_player = player_df[\"SN\"].nunique()\n",
    "\n",
    "print(\"Summary Stats of Players\")\n",
    "print(\"--\"* 20)\n",
    "print(\"Total Number of Players:       \" + str(total_num_player))\n",
    "print(\"Average age:                   \" + str(round(player_df[\"Age\"].mean(),2)))\n",
    "print(\"Average purchases per player:  \" + str(round(player_df[\"Number Purchases\"].mean(),2)))\n",
    "print(\"Average expenditure:          $\" + str(round(player_df[\"Expenditure\"].mean(),2)))\n",
    "print(\"--\"* 20) "
   ]
  },
  {
   "cell_type": "markdown",
   "metadata": {},
   "source": [
    "# 2. Overall Purchasing Analysis "
   ]
  },
  {
   "cell_type": "markdown",
   "metadata": {},
   "source": [
    "This section presents summary statistics from all purchases"
   ]
  },
  {
   "cell_type": "code",
   "execution_count": 6,
   "metadata": {},
   "outputs": [],
   "source": [
    "#Calvulate total Purchases and Revenue\n",
    "total_purchases = pymoli_df[\"Purchase ID\"].count()\n",
    "total_revenue   = pymoli_df[\"Price\"].sum()"
   ]
  },
  {
   "cell_type": "code",
   "execution_count": 7,
   "metadata": {},
   "outputs": [
    {
     "name": "stdout",
     "output_type": "stream",
     "text": [
      "Overall Purchasing Analysis\n",
      "----------------------------------------\n",
      "Number of Unique Items:     183\n",
      "Average Purchase Price:    $3.05\n",
      "Total Number of Purchases:  780\n",
      "Total Revenue:             $2379.77\n",
      "----------------------------------------\n"
     ]
    }
   ],
   "source": [
    "#Summarize data\n",
    "print(\"Overall Purchasing Analysis\")\n",
    "print(\"--\"* 20)\n",
    "print(\"Number of Unique Items:     \" + str(pymoli_df[\"Item ID\"].nunique()))\n",
    "print(\"Average Purchase Price:    $\" + str(round((total_revenue/total_purchases),2)))\n",
    "print(\"Total Number of Purchases:  \" + str(total_purchases))\n",
    "print(\"Total Revenue:             $\" + str(total_revenue))\n",
    "print(\"--\"* 20)  "
   ]
  },
  {
   "cell_type": "markdown",
   "metadata": {},
   "source": [
    "# 3. Gender Demographics "
   ]
  },
  {
   "cell_type": "markdown",
   "metadata": {},
   "source": [
    "This section presents the breakdown of players by gender. "
   ]
  },
  {
   "cell_type": "code",
   "execution_count": 8,
   "metadata": {},
   "outputs": [
    {
     "data": {
      "text/html": [
       "<div>\n",
       "<style scoped>\n",
       "    .dataframe tbody tr th:only-of-type {\n",
       "        vertical-align: middle;\n",
       "    }\n",
       "\n",
       "    .dataframe tbody tr th {\n",
       "        vertical-align: top;\n",
       "    }\n",
       "\n",
       "    .dataframe thead th {\n",
       "        text-align: right;\n",
       "    }\n",
       "</style>\n",
       "<table border=\"1\" class=\"dataframe\">\n",
       "  <thead>\n",
       "    <tr style=\"text-align: right;\">\n",
       "      <th></th>\n",
       "      <th>Number of Players</th>\n",
       "      <th>Percent</th>\n",
       "    </tr>\n",
       "    <tr>\n",
       "      <th>Gender</th>\n",
       "      <th></th>\n",
       "      <th></th>\n",
       "    </tr>\n",
       "  </thead>\n",
       "  <tbody>\n",
       "    <tr>\n",
       "      <th>Female</th>\n",
       "      <td>81</td>\n",
       "      <td>14.06%</td>\n",
       "    </tr>\n",
       "    <tr>\n",
       "      <th>Male</th>\n",
       "      <td>484</td>\n",
       "      <td>84.03%</td>\n",
       "    </tr>\n",
       "    <tr>\n",
       "      <th>Other / Non-Disclosed</th>\n",
       "      <td>11</td>\n",
       "      <td>1.91%</td>\n",
       "    </tr>\n",
       "  </tbody>\n",
       "</table>\n",
       "</div>"
      ],
      "text/plain": [
       "                       Number of Players Percent\n",
       "Gender                                          \n",
       "Female                                81  14.06%\n",
       "Male                                 484  84.03%\n",
       "Other / Non-Disclosed                 11   1.91%"
      ]
     },
     "execution_count": 8,
     "metadata": {},
     "output_type": "execute_result"
    }
   ],
   "source": [
    "gender_tab = player_df.groupby(\"Gender\", as_index=False)[\"SN\"].count()         #Create a Table unique by Gender\n",
    "gender_tab.set_index(\"Gender\", inplace = True)                                 #Set index to Gender\n",
    "gender_tab = gender_tab.rename(columns={\"SN\":\"Number of Players\"})\n",
    "gender_tab[\"Percent\"] = (gender_tab[\"Number of Players\"]/total_num_player)*100 #Compute percentages\n",
    "gender_tab[\"Percent\"] = gender_tab[\"Percent\"].map(\"{:.2f}%\".format)            #Format the percent column\n",
    "gender_tab.head() "
   ]
  },
  {
   "cell_type": "markdown",
   "metadata": {},
   "source": [
    "# 4. Purchasing Analysis  by Gender"
   ]
  },
  {
   "cell_type": "markdown",
   "metadata": {},
   "source": [
    "This section adds on previous section by presenting purchase summary statistics by gender"
   ]
  },
  {
   "cell_type": "code",
   "execution_count": 9,
   "metadata": {},
   "outputs": [],
   "source": [
    "#Get purchasing data by gender\n",
    "g_purchase = player_df.groupby(\"Gender\", as_index=False)[\"Number Purchases\"].sum()\n",
    "g_value = player_df.groupby(\"Gender\", as_index=False)[\"Expenditure\"].sum()\n",
    "\n",
    "#Merge the data together\n",
    "g_pur_val = pd.merge(g_purchase, g_value, on=\"Gender\", how=\"inner\")"
   ]
  },
  {
   "cell_type": "code",
   "execution_count": 10,
   "metadata": {},
   "outputs": [],
   "source": [
    "#Add the new data to our existing gender level data frame\n",
    "gender_tab = pd.merge(gender_tab, g_pur_val, on=\"Gender\", how=\"inner\")\n",
    "gender_tab.set_index(\"Gender\", inplace = True)"
   ]
  },
  {
   "cell_type": "code",
   "execution_count": 11,
   "metadata": {},
   "outputs": [
    {
     "data": {
      "text/html": [
       "<div>\n",
       "<style scoped>\n",
       "    .dataframe tbody tr th:only-of-type {\n",
       "        vertical-align: middle;\n",
       "    }\n",
       "\n",
       "    .dataframe tbody tr th {\n",
       "        vertical-align: top;\n",
       "    }\n",
       "\n",
       "    .dataframe thead th {\n",
       "        text-align: right;\n",
       "    }\n",
       "</style>\n",
       "<table border=\"1\" class=\"dataframe\">\n",
       "  <thead>\n",
       "    <tr style=\"text-align: right;\">\n",
       "      <th></th>\n",
       "      <th>Purchase Count</th>\n",
       "      <th>Average Purchase Price</th>\n",
       "      <th>Total Purchase Value</th>\n",
       "      <th>Avg Purchase Total per Person</th>\n",
       "    </tr>\n",
       "    <tr>\n",
       "      <th>Gender</th>\n",
       "      <th></th>\n",
       "      <th></th>\n",
       "      <th></th>\n",
       "      <th></th>\n",
       "    </tr>\n",
       "  </thead>\n",
       "  <tbody>\n",
       "    <tr>\n",
       "      <th>Female</th>\n",
       "      <td>113</td>\n",
       "      <td>$3.20</td>\n",
       "      <td>$361.94</td>\n",
       "      <td>$4.47</td>\n",
       "    </tr>\n",
       "    <tr>\n",
       "      <th>Male</th>\n",
       "      <td>652</td>\n",
       "      <td>$3.02</td>\n",
       "      <td>$1,967.64</td>\n",
       "      <td>$4.07</td>\n",
       "    </tr>\n",
       "    <tr>\n",
       "      <th>Other / Non-Disclosed</th>\n",
       "      <td>15</td>\n",
       "      <td>$3.35</td>\n",
       "      <td>$50.19</td>\n",
       "      <td>$4.56</td>\n",
       "    </tr>\n",
       "  </tbody>\n",
       "</table>\n",
       "</div>"
      ],
      "text/plain": [
       "                       Purchase Count Average Purchase Price  \\\n",
       "Gender                                                         \n",
       "Female                            113                  $3.20   \n",
       "Male                              652                  $3.02   \n",
       "Other / Non-Disclosed              15                  $3.35   \n",
       "\n",
       "                      Total Purchase Value Avg Purchase Total per Person  \n",
       "Gender                                                                    \n",
       "Female                             $361.94                         $4.47  \n",
       "Male                             $1,967.64                         $4.07  \n",
       "Other / Non-Disclosed               $50.19                         $4.56  "
      ]
     },
     "execution_count": 11,
     "metadata": {},
     "output_type": "execute_result"
    }
   ],
   "source": [
    "#Compute averages\n",
    "gender_tab[\"Average Purchase Price\"] = gender_tab[\"Expenditure\"]/gender_tab[\"Number Purchases\"] \n",
    "gender_tab[\"Avg Purchase Total per Person\"] = gender_tab[\"Expenditure\"]/gender_tab[\"Number of Players\"] \n",
    "\n",
    "#Output final table\n",
    "purchase_gender = gender_tab[[\"Number Purchases\",\"Average Purchase Price\",\"Expenditure\",\"Avg Purchase Total per Person\"]]\n",
    "purchase_gender = purchase_gender.rename(columns={\"Number Purchases\":\"Purchase Count\",\"Expenditure\":\"Total Purchase Value\"})\n",
    "\n",
    "#Format output and print final table\n",
    "itemlist = [\"Average Purchase Price\", \"Total Purchase Value\", \"Avg Purchase Total per Person\"]\n",
    "for item in itemlist:\n",
    "    purchase_gender[item] = purchase_gender[item].map(\"${:,.2f}\".format)\n",
    "\n",
    "purchase_gender"
   ]
  },
  {
   "cell_type": "markdown",
   "metadata": {},
   "source": [
    "# 5. Age Demographics"
   ]
  },
  {
   "cell_type": "markdown",
   "metadata": {},
   "source": [
    "This section presents the breakdown of players by age. Players have been grouped into different age categories."
   ]
  },
  {
   "cell_type": "code",
   "execution_count": 12,
   "metadata": {},
   "outputs": [],
   "source": [
    "#Bin data by age\n",
    "max_age = (player_df[\"Age\"].max())+100\n",
    "bins   = [0,9, 14, 19, 24, 29, 34, 39, max_age]\n",
    "labels = [\"<10\", \"10 - 14\", \"15 - 19\", \"20 - 24\", \"25 - 29\", \"30 - 34\", \"35 - 39\", \"40+\"]\n",
    "player_binned=player_df\n",
    "player_binned[\"Age_bins\"] = pd.cut(player_binned[\"Age\"], bins=bins, labels=labels)"
   ]
  },
  {
   "cell_type": "code",
   "execution_count": 13,
   "metadata": {},
   "outputs": [
    {
     "data": {
      "text/html": [
       "<div>\n",
       "<style scoped>\n",
       "    .dataframe tbody tr th:only-of-type {\n",
       "        vertical-align: middle;\n",
       "    }\n",
       "\n",
       "    .dataframe tbody tr th {\n",
       "        vertical-align: top;\n",
       "    }\n",
       "\n",
       "    .dataframe thead th {\n",
       "        text-align: right;\n",
       "    }\n",
       "</style>\n",
       "<table border=\"1\" class=\"dataframe\">\n",
       "  <thead>\n",
       "    <tr style=\"text-align: right;\">\n",
       "      <th></th>\n",
       "      <th>Number of Players</th>\n",
       "      <th>Percent</th>\n",
       "    </tr>\n",
       "    <tr>\n",
       "      <th>Age_bins</th>\n",
       "      <th></th>\n",
       "      <th></th>\n",
       "    </tr>\n",
       "  </thead>\n",
       "  <tbody>\n",
       "    <tr>\n",
       "      <th>&lt;10</th>\n",
       "      <td>17</td>\n",
       "      <td>2.95%</td>\n",
       "    </tr>\n",
       "    <tr>\n",
       "      <th>10 - 14</th>\n",
       "      <td>22</td>\n",
       "      <td>3.82%</td>\n",
       "    </tr>\n",
       "    <tr>\n",
       "      <th>15 - 19</th>\n",
       "      <td>107</td>\n",
       "      <td>18.58%</td>\n",
       "    </tr>\n",
       "    <tr>\n",
       "      <th>20 - 24</th>\n",
       "      <td>258</td>\n",
       "      <td>44.79%</td>\n",
       "    </tr>\n",
       "    <tr>\n",
       "      <th>25 - 29</th>\n",
       "      <td>77</td>\n",
       "      <td>13.37%</td>\n",
       "    </tr>\n",
       "    <tr>\n",
       "      <th>30 - 34</th>\n",
       "      <td>52</td>\n",
       "      <td>9.03%</td>\n",
       "    </tr>\n",
       "    <tr>\n",
       "      <th>35 - 39</th>\n",
       "      <td>31</td>\n",
       "      <td>5.38%</td>\n",
       "    </tr>\n",
       "    <tr>\n",
       "      <th>40+</th>\n",
       "      <td>12</td>\n",
       "      <td>2.08%</td>\n",
       "    </tr>\n",
       "  </tbody>\n",
       "</table>\n",
       "</div>"
      ],
      "text/plain": [
       "          Number of Players Percent\n",
       "Age_bins                           \n",
       "<10                      17   2.95%\n",
       "10 - 14                  22   3.82%\n",
       "15 - 19                 107  18.58%\n",
       "20 - 24                 258  44.79%\n",
       "25 - 29                  77  13.37%\n",
       "30 - 34                  52   9.03%\n",
       "35 - 39                  31   5.38%\n",
       "40+                      12   2.08%"
      ]
     },
     "execution_count": 13,
     "metadata": {},
     "output_type": "execute_result"
    }
   ],
   "source": [
    "#Get Demographic Table by Age bins\n",
    "demo_tab = player_binned.groupby(\"Age_bins\", as_index=False)[\"SN\"].count()\n",
    "demo_tab[\"Percent\"] = (demo_tab[\"SN\"]/total_num_player)*100                     #Compute percentages\n",
    "demo_tab.set_index(\"Age_bins\", inplace = True)                                  #Set index to Gender\n",
    "demo_tab = demo_tab.rename(columns={\"SN\":\"Number of Players\"})\n",
    "demo_tab[\"Percent\"] = demo_tab[\"Percent\"].map(\"{:.2f}%\".format)            #Format the percent column\n",
    "demo_tab"
   ]
  },
  {
   "cell_type": "markdown",
   "metadata": {},
   "source": [
    "# 6. Purchasing Analysis by Age"
   ]
  },
  {
   "cell_type": "markdown",
   "metadata": {},
   "source": [
    "This section adds on previous section by presenting purchase summary statistics by age category"
   ]
  },
  {
   "cell_type": "code",
   "execution_count": 14,
   "metadata": {},
   "outputs": [],
   "source": [
    "#Get purchasing data by Age\n",
    "ab_purchase = player_binned.groupby(\"Age_bins\", as_index=False)[\"Number Purchases\"].sum()\n",
    "ab_value    = player_binned.groupby(\"Age_bins\", as_index=False)[\"Expenditure\"].sum()\n",
    "\n",
    "#Merge the data together\n",
    "ab_pur_val = pd.merge(ab_purchase, ab_value, on=\"Age_bins\", how=\"inner\")"
   ]
  },
  {
   "cell_type": "code",
   "execution_count": 15,
   "metadata": {},
   "outputs": [],
   "source": [
    "#Add the new data to our existing gender level data frame\n",
    "demo_tab = pd.merge(demo_tab, ab_pur_val, on=\"Age_bins\", how=\"inner\")\n",
    "demo_tab.set_index(\"Age_bins\", inplace = True)"
   ]
  },
  {
   "cell_type": "code",
   "execution_count": 16,
   "metadata": {},
   "outputs": [
    {
     "data": {
      "text/html": [
       "<div>\n",
       "<style scoped>\n",
       "    .dataframe tbody tr th:only-of-type {\n",
       "        vertical-align: middle;\n",
       "    }\n",
       "\n",
       "    .dataframe tbody tr th {\n",
       "        vertical-align: top;\n",
       "    }\n",
       "\n",
       "    .dataframe thead th {\n",
       "        text-align: right;\n",
       "    }\n",
       "</style>\n",
       "<table border=\"1\" class=\"dataframe\">\n",
       "  <thead>\n",
       "    <tr style=\"text-align: right;\">\n",
       "      <th></th>\n",
       "      <th>Purchase Count</th>\n",
       "      <th>Average Purchase Price</th>\n",
       "      <th>Total Purchase Value</th>\n",
       "      <th>Avg Purchase Total per Person</th>\n",
       "    </tr>\n",
       "    <tr>\n",
       "      <th>Age_bins</th>\n",
       "      <th></th>\n",
       "      <th></th>\n",
       "      <th></th>\n",
       "      <th></th>\n",
       "    </tr>\n",
       "  </thead>\n",
       "  <tbody>\n",
       "    <tr>\n",
       "      <th>&lt;10</th>\n",
       "      <td>23</td>\n",
       "      <td>$3.35</td>\n",
       "      <td>$77.13</td>\n",
       "      <td>$4.54</td>\n",
       "    </tr>\n",
       "    <tr>\n",
       "      <th>10 - 14</th>\n",
       "      <td>28</td>\n",
       "      <td>$2.96</td>\n",
       "      <td>$82.78</td>\n",
       "      <td>$3.76</td>\n",
       "    </tr>\n",
       "    <tr>\n",
       "      <th>15 - 19</th>\n",
       "      <td>136</td>\n",
       "      <td>$3.04</td>\n",
       "      <td>$412.89</td>\n",
       "      <td>$3.86</td>\n",
       "    </tr>\n",
       "    <tr>\n",
       "      <th>20 - 24</th>\n",
       "      <td>365</td>\n",
       "      <td>$3.05</td>\n",
       "      <td>$1,114.06</td>\n",
       "      <td>$4.32</td>\n",
       "    </tr>\n",
       "    <tr>\n",
       "      <th>25 - 29</th>\n",
       "      <td>101</td>\n",
       "      <td>$2.90</td>\n",
       "      <td>$293.00</td>\n",
       "      <td>$3.81</td>\n",
       "    </tr>\n",
       "    <tr>\n",
       "      <th>30 - 34</th>\n",
       "      <td>73</td>\n",
       "      <td>$2.93</td>\n",
       "      <td>$214.00</td>\n",
       "      <td>$4.12</td>\n",
       "    </tr>\n",
       "    <tr>\n",
       "      <th>35 - 39</th>\n",
       "      <td>41</td>\n",
       "      <td>$3.60</td>\n",
       "      <td>$147.67</td>\n",
       "      <td>$4.76</td>\n",
       "    </tr>\n",
       "    <tr>\n",
       "      <th>40+</th>\n",
       "      <td>13</td>\n",
       "      <td>$2.94</td>\n",
       "      <td>$38.24</td>\n",
       "      <td>$3.19</td>\n",
       "    </tr>\n",
       "  </tbody>\n",
       "</table>\n",
       "</div>"
      ],
      "text/plain": [
       "          Purchase Count Average Purchase Price Total Purchase Value  \\\n",
       "Age_bins                                                               \n",
       "<10                   23                  $3.35               $77.13   \n",
       "10 - 14               28                  $2.96               $82.78   \n",
       "15 - 19              136                  $3.04              $412.89   \n",
       "20 - 24              365                  $3.05            $1,114.06   \n",
       "25 - 29              101                  $2.90              $293.00   \n",
       "30 - 34               73                  $2.93              $214.00   \n",
       "35 - 39               41                  $3.60              $147.67   \n",
       "40+                   13                  $2.94               $38.24   \n",
       "\n",
       "         Avg Purchase Total per Person  \n",
       "Age_bins                                \n",
       "<10                              $4.54  \n",
       "10 - 14                          $3.76  \n",
       "15 - 19                          $3.86  \n",
       "20 - 24                          $4.32  \n",
       "25 - 29                          $3.81  \n",
       "30 - 34                          $4.12  \n",
       "35 - 39                          $4.76  \n",
       "40+                              $3.19  "
      ]
     },
     "execution_count": 16,
     "metadata": {},
     "output_type": "execute_result"
    }
   ],
   "source": [
    "#Compute averages\n",
    "demo_tab[\"Average Purchase Price\"] = demo_tab[\"Expenditure\"]/demo_tab[\"Number Purchases\"] \n",
    "demo_tab[\"Avg Purchase Total per Person\"] = demo_tab[\"Expenditure\"]/demo_tab[\"Number of Players\"]  \n",
    "\n",
    "#Output final table\n",
    "purchase_age = demo_tab[[\"Number Purchases\",\"Average Purchase Price\",\"Expenditure\",\"Avg Purchase Total per Person\"]]\n",
    "purchase_age = purchase_age.rename(columns={\"Number Purchases\":\"Purchase Count\",\"Expenditure\":\"Total Purchase Value\"})\n",
    "\n",
    "\n",
    "#Format output and print final table\n",
    "itemlist = [\"Average Purchase Price\", \"Total Purchase Value\", \"Avg Purchase Total per Person\"]\n",
    "for item in itemlist:\n",
    "    purchase_age[item] = purchase_age[item].map(\"${:,.2f}\".format)\n",
    "purchase_age"
   ]
  },
  {
   "cell_type": "markdown",
   "metadata": {},
   "source": [
    "# 7. Top Spenders\n"
   ]
  },
  {
   "cell_type": "markdown",
   "metadata": {},
   "source": [
    "This section identifies the top spenders by ranking individual players by total amount spent"
   ]
  },
  {
   "cell_type": "code",
   "execution_count": 17,
   "metadata": {},
   "outputs": [
    {
     "data": {
      "text/html": [
       "<div>\n",
       "<style scoped>\n",
       "    .dataframe tbody tr th:only-of-type {\n",
       "        vertical-align: middle;\n",
       "    }\n",
       "\n",
       "    .dataframe tbody tr th {\n",
       "        vertical-align: top;\n",
       "    }\n",
       "\n",
       "    .dataframe thead th {\n",
       "        text-align: right;\n",
       "    }\n",
       "</style>\n",
       "<table border=\"1\" class=\"dataframe\">\n",
       "  <thead>\n",
       "    <tr style=\"text-align: right;\">\n",
       "      <th></th>\n",
       "      <th>Purchase Count</th>\n",
       "      <th>Average Purchase Price</th>\n",
       "      <th>Total Purchase Value</th>\n",
       "    </tr>\n",
       "    <tr>\n",
       "      <th>SN</th>\n",
       "      <th></th>\n",
       "      <th></th>\n",
       "      <th></th>\n",
       "    </tr>\n",
       "  </thead>\n",
       "  <tbody>\n",
       "    <tr>\n",
       "      <th>Lisosia93</th>\n",
       "      <td>5</td>\n",
       "      <td>$3.79</td>\n",
       "      <td>$18.96</td>\n",
       "    </tr>\n",
       "    <tr>\n",
       "      <th>Idastidru52</th>\n",
       "      <td>4</td>\n",
       "      <td>$3.86</td>\n",
       "      <td>$15.45</td>\n",
       "    </tr>\n",
       "    <tr>\n",
       "      <th>Chamjask73</th>\n",
       "      <td>3</td>\n",
       "      <td>$4.61</td>\n",
       "      <td>$13.83</td>\n",
       "    </tr>\n",
       "    <tr>\n",
       "      <th>Iral74</th>\n",
       "      <td>4</td>\n",
       "      <td>$3.40</td>\n",
       "      <td>$13.62</td>\n",
       "    </tr>\n",
       "    <tr>\n",
       "      <th>Iskadarya95</th>\n",
       "      <td>3</td>\n",
       "      <td>$4.37</td>\n",
       "      <td>$13.10</td>\n",
       "    </tr>\n",
       "  </tbody>\n",
       "</table>\n",
       "</div>"
      ],
      "text/plain": [
       "             Purchase Count Average Purchase Price Total Purchase Value\n",
       "SN                                                                     \n",
       "Lisosia93                 5                  $3.79               $18.96\n",
       "Idastidru52               4                  $3.86               $15.45\n",
       "Chamjask73                3                  $4.61               $13.83\n",
       "Iral74                    4                  $3.40               $13.62\n",
       "Iskadarya95               3                  $4.37               $13.10"
      ]
     },
     "execution_count": 17,
     "metadata": {},
     "output_type": "execute_result"
    }
   ],
   "source": [
    "#Compute Average purchase price and sort data\n",
    "sorted_player = player_df.sort_values([\"Expenditure\"], ascending=False).reset_index(drop=True) \n",
    "sorted_player[\"Average Purchase Price\"] = sorted_player[\"Expenditure\"]/sorted_player[\"Number Purchases\"] \n",
    "\n",
    "#Get Top Spenders table\n",
    "top_spenders = sorted_player[[\"SN\",\"Number Purchases\",\"Average Purchase Price\",\"Expenditure\"]]\n",
    "top_spenders = top_spenders.rename(columns={\"Number Purchases\":\"Purchase Count\",\"Expenditure\":\"Total Purchase Value\"})\n",
    "top_spenders = top_spenders.iloc[0:5]           #Select only the Top 5 spenders\n",
    "top_spenders.set_index(\"SN\", inplace = True)    #Set index to SN\n",
    "\n",
    "#Format and putput table\n",
    "itemlist = [\"Average Purchase Price\", \"Total Purchase Value\"]\n",
    "\n",
    "for item in itemlist:\n",
    "    top_spenders[item] = top_spenders[item].map(\"${:,.2f}\".format)\n",
    "\n",
    "top_spenders"
   ]
  },
  {
   "cell_type": "markdown",
   "metadata": {},
   "source": [
    "# 8. Most Popular Items"
   ]
  },
  {
   "cell_type": "markdown",
   "metadata": {},
   "source": [
    "This section shows the most popular items by ranking intems based of the number of purchases"
   ]
  },
  {
   "cell_type": "code",
   "execution_count": 18,
   "metadata": {},
   "outputs": [],
   "source": [
    "#Get purchasing data by Item\n",
    "pop_count    = pymoli_df.groupby(\"Item ID\", as_index=False)[\"Purchase ID\"].count()\n",
    "pop_value    = pymoli_df.groupby(\"Item ID\", as_index=False)[\"Price\"].sum()\n",
    "\n",
    "#Merge the data together\n",
    "pop_count_val = pd.merge(pop_count, pop_value, on=\"Item ID\", how=\"inner\")\n",
    "pop_count_val = pop_count_val.rename(columns={\"Purchase ID\":\"Purchase Count\",\"Price\":\"Total Purchase Value\"})"
   ]
  },
  {
   "cell_type": "code",
   "execution_count": 19,
   "metadata": {},
   "outputs": [
    {
     "data": {
      "text/html": [
       "<div>\n",
       "<style scoped>\n",
       "    .dataframe tbody tr th:only-of-type {\n",
       "        vertical-align: middle;\n",
       "    }\n",
       "\n",
       "    .dataframe tbody tr th {\n",
       "        vertical-align: top;\n",
       "    }\n",
       "\n",
       "    .dataframe thead th {\n",
       "        text-align: right;\n",
       "    }\n",
       "</style>\n",
       "<table border=\"1\" class=\"dataframe\">\n",
       "  <thead>\n",
       "    <tr style=\"text-align: right;\">\n",
       "      <th></th>\n",
       "      <th></th>\n",
       "      <th>Purchase Count</th>\n",
       "      <th>Price</th>\n",
       "      <th>Total Purchase Value</th>\n",
       "    </tr>\n",
       "    <tr>\n",
       "      <th>Item ID</th>\n",
       "      <th>Item Name</th>\n",
       "      <th></th>\n",
       "      <th></th>\n",
       "      <th></th>\n",
       "    </tr>\n",
       "  </thead>\n",
       "  <tbody>\n",
       "    <tr>\n",
       "      <th>178</th>\n",
       "      <th>Oathbreaker, Last Hope of the Breaking Storm</th>\n",
       "      <td>12</td>\n",
       "      <td>$4.23</td>\n",
       "      <td>$50.76</td>\n",
       "    </tr>\n",
       "    <tr>\n",
       "      <th>145</th>\n",
       "      <th>Fiery Glass Crusader</th>\n",
       "      <td>9</td>\n",
       "      <td>$4.58</td>\n",
       "      <td>$41.22</td>\n",
       "    </tr>\n",
       "    <tr>\n",
       "      <th>108</th>\n",
       "      <th>Extraction, Quickblade Of Trembling Hands</th>\n",
       "      <td>9</td>\n",
       "      <td>$3.53</td>\n",
       "      <td>$31.77</td>\n",
       "    </tr>\n",
       "    <tr>\n",
       "      <th>82</th>\n",
       "      <th>Nirvana</th>\n",
       "      <td>9</td>\n",
       "      <td>$4.90</td>\n",
       "      <td>$44.10</td>\n",
       "    </tr>\n",
       "    <tr>\n",
       "      <th>103</th>\n",
       "      <th>Singed Scalpel</th>\n",
       "      <td>8</td>\n",
       "      <td>$4.35</td>\n",
       "      <td>$34.80</td>\n",
       "    </tr>\n",
       "  </tbody>\n",
       "</table>\n",
       "</div>"
      ],
      "text/plain": [
       "                                                      Purchase Count  Price  \\\n",
       "Item ID Item Name                                                             \n",
       "178     Oathbreaker, Last Hope of the Breaking Storm              12  $4.23   \n",
       "145     Fiery Glass Crusader                                       9  $4.58   \n",
       "108     Extraction, Quickblade Of Trembling Hands                  9  $3.53   \n",
       "82      Nirvana                                                    9  $4.90   \n",
       "103     Singed Scalpel                                             8  $4.35   \n",
       "\n",
       "                                                     Total Purchase Value  \n",
       "Item ID Item Name                                                          \n",
       "178     Oathbreaker, Last Hope of the Breaking Storm               $50.76  \n",
       "145     Fiery Glass Crusader                                       $41.22  \n",
       "108     Extraction, Quickblade Of Trembling Hands                  $31.77  \n",
       "82      Nirvana                                                    $44.10  \n",
       "103     Singed Scalpel                                             $34.80  "
      ]
     },
     "execution_count": 19,
     "metadata": {},
     "output_type": "execute_result"
    }
   ],
   "source": [
    "#Keep only item-level data from Purchase data and dedupe\n",
    "itdf = pymoli_df[[\"Item ID\",\"Item Name\",\"Price\"]]\n",
    "itdf = itdf.drop_duplicates([\"Item ID\"])                       #Dedupe atplayer level\n",
    "itdf.head()\n",
    "\n",
    "#Merge Purchasing data\n",
    "pop_items_df = pd.merge(itdf, pop_count_val, on=\"Item ID\", how=\"inner\")\n",
    "pop_items_df = pop_items_df[[\"Item ID\",\"Item Name\",\"Purchase Count\",\"Price\",\"Total Purchase Value\"]]\n",
    "pop_items_df = pop_items_df.sort_values([\"Purchase Count\",\"Item ID\"], ascending=False).reset_index(drop=True)\n",
    "pop_items_df.set_index([\"Item ID\",\"Item Name\"], inplace = True)    #Set index to SN\n",
    "\n",
    "#Format Table\n",
    "itemlist = [\"Price\", \"Total Purchase Value\"]\n",
    "\n",
    "for item in itemlist:\n",
    "    pop_items_df[item] = pop_items_df[item].map(\"${:,.2f}\".format)\n",
    "\n",
    "pop_items_df.head()"
   ]
  },
  {
   "cell_type": "markdown",
   "metadata": {},
   "source": [
    "# 9 Most Profitable Items "
   ]
  },
  {
   "cell_type": "markdown",
   "metadata": {},
   "source": [
    "This section shows the most profitable items by ranking intems based of the total purchase value"
   ]
  },
  {
   "cell_type": "code",
   "execution_count": 20,
   "metadata": {},
   "outputs": [
    {
     "data": {
      "text/html": [
       "<div>\n",
       "<style scoped>\n",
       "    .dataframe tbody tr th:only-of-type {\n",
       "        vertical-align: middle;\n",
       "    }\n",
       "\n",
       "    .dataframe tbody tr th {\n",
       "        vertical-align: top;\n",
       "    }\n",
       "\n",
       "    .dataframe thead th {\n",
       "        text-align: right;\n",
       "    }\n",
       "</style>\n",
       "<table border=\"1\" class=\"dataframe\">\n",
       "  <thead>\n",
       "    <tr style=\"text-align: right;\">\n",
       "      <th></th>\n",
       "      <th></th>\n",
       "      <th>Purchase Count</th>\n",
       "      <th>Price</th>\n",
       "      <th>Total Purchase Value</th>\n",
       "    </tr>\n",
       "    <tr>\n",
       "      <th>Item ID</th>\n",
       "      <th>Item Name</th>\n",
       "      <th></th>\n",
       "      <th></th>\n",
       "      <th></th>\n",
       "    </tr>\n",
       "  </thead>\n",
       "  <tbody>\n",
       "    <tr>\n",
       "      <th>178</th>\n",
       "      <th>Oathbreaker, Last Hope of the Breaking Storm</th>\n",
       "      <td>12</td>\n",
       "      <td>$4.23</td>\n",
       "      <td>$50.76</td>\n",
       "    </tr>\n",
       "    <tr>\n",
       "      <th>82</th>\n",
       "      <th>Nirvana</th>\n",
       "      <td>9</td>\n",
       "      <td>$4.90</td>\n",
       "      <td>$44.10</td>\n",
       "    </tr>\n",
       "    <tr>\n",
       "      <th>145</th>\n",
       "      <th>Fiery Glass Crusader</th>\n",
       "      <td>9</td>\n",
       "      <td>$4.58</td>\n",
       "      <td>$41.22</td>\n",
       "    </tr>\n",
       "    <tr>\n",
       "      <th>92</th>\n",
       "      <th>Final Critic</th>\n",
       "      <td>8</td>\n",
       "      <td>$4.88</td>\n",
       "      <td>$39.04</td>\n",
       "    </tr>\n",
       "    <tr>\n",
       "      <th>103</th>\n",
       "      <th>Singed Scalpel</th>\n",
       "      <td>8</td>\n",
       "      <td>$4.35</td>\n",
       "      <td>$34.80</td>\n",
       "    </tr>\n",
       "  </tbody>\n",
       "</table>\n",
       "</div>"
      ],
      "text/plain": [
       "                                                      Purchase Count  Price  \\\n",
       "Item ID Item Name                                                             \n",
       "178     Oathbreaker, Last Hope of the Breaking Storm              12  $4.23   \n",
       "82      Nirvana                                                    9  $4.90   \n",
       "145     Fiery Glass Crusader                                       9  $4.58   \n",
       "92      Final Critic                                               8  $4.88   \n",
       "103     Singed Scalpel                                             8  $4.35   \n",
       "\n",
       "                                                     Total Purchase Value  \n",
       "Item ID Item Name                                                          \n",
       "178     Oathbreaker, Last Hope of the Breaking Storm               $50.76  \n",
       "82      Nirvana                                                    $44.10  \n",
       "145     Fiery Glass Crusader                                       $41.22  \n",
       "92      Final Critic                                               $39.04  \n",
       "103     Singed Scalpel                                             $34.80  "
      ]
     },
     "execution_count": 20,
     "metadata": {},
     "output_type": "execute_result"
    }
   ],
   "source": [
    "#Merge Purchasing data\n",
    "profit_df = pd.merge(itdf, pop_count_val, on=\"Item ID\", how=\"inner\")\n",
    "profit_df = profit_df[[\"Item ID\",\"Item Name\",\"Purchase Count\",\"Price\",\"Total Purchase Value\"]]\n",
    "profit_df = profit_df.sort_values([\"Total Purchase Value\"], ascending=False).reset_index(drop=True)\n",
    "profit_df.set_index([\"Item ID\",\"Item Name\"], inplace = True)    #Set index to SN\n",
    "\n",
    "#Format Table\n",
    "itemlist = [\"Price\", \"Total Purchase Value\"]\n",
    "\n",
    "for item in itemlist:\n",
    "    profit_df[item] = profit_df[item].map(\"${:,.2f}\".format)\n",
    "\n",
    "profit_df.head()"
   ]
  }
 ],
 "metadata": {
  "kernelspec": {
   "display_name": "Python 3",
   "language": "python",
   "name": "python3"
  },
  "language_info": {
   "codemirror_mode": {
    "name": "ipython",
    "version": 3
   },
   "file_extension": ".py",
   "mimetype": "text/x-python",
   "name": "python",
   "nbconvert_exporter": "python",
   "pygments_lexer": "ipython3",
   "version": "3.7.1"
  }
 },
 "nbformat": 4,
 "nbformat_minor": 2
}
